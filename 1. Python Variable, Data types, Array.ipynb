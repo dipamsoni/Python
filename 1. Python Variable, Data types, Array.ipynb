{
 "cells": [
  {
   "cell_type": "markdown",
   "id": "1d1f4083",
   "metadata": {},
   "source": [
    "# Python Variable "
   ]
  },
  {
   "cell_type": "markdown",
   "id": "44562844",
   "metadata": {},
   "source": [
    "Creating Variables"
   ]
  },
  {
   "cell_type": "code",
   "execution_count": 1,
   "id": "1ba2740c",
   "metadata": {},
   "outputs": [
    {
     "name": "stdout",
     "output_type": "stream",
     "text": [
      "10\n",
      "Hello World\n"
     ]
    }
   ],
   "source": [
    "x = 10 # integer \n",
    "y = \"Hello World\"# string\n",
    "print(x)\n",
    "print(y)"
   ]
  },
  {
   "cell_type": "code",
   "execution_count": 2,
   "id": "26cec66a",
   "metadata": {},
   "outputs": [
    {
     "name": "stdout",
     "output_type": "stream",
     "text": [
      "Hello World\n"
     ]
    }
   ],
   "source": [
    "x = 10       # x is of type int\n",
    "x = \"Hello World\" # x is now of type str\n",
    "print(x)"
   ]
  },
  {
   "cell_type": "markdown",
   "id": "8e1e16e4",
   "metadata": {},
   "source": [
    "Casting : If you want to specify the data type of a variable, this can be done with casting."
   ]
  },
  {
   "cell_type": "code",
   "execution_count": 3,
   "id": "e2fd8e26",
   "metadata": {},
   "outputs": [
    {
     "name": "stdout",
     "output_type": "stream",
     "text": [
      "10\n",
      "10\n",
      "10.0\n"
     ]
    }
   ],
   "source": [
    "x = str(10) # x will be '10'\n",
    "y = int(10) # y will be 10\n",
    "z = float(10) # z will be 10.0\n",
    "print(x)\n",
    "print(y)\n",
    "print(z)\n"
   ]
  },
  {
   "cell_type": "markdown",
   "id": "b769af0b",
   "metadata": {},
   "source": [
    "Get the type"
   ]
  },
  {
   "cell_type": "code",
   "execution_count": 4,
   "id": "d0f4915b",
   "metadata": {},
   "outputs": [
    {
     "name": "stdout",
     "output_type": "stream",
     "text": [
      "<class 'str'>\n",
      "<class 'int'>\n",
      "<class 'float'>\n"
     ]
    }
   ],
   "source": [
    "print(type(x))\n",
    "print(type(y))\n",
    "print(type(z))"
   ]
  },
  {
   "cell_type": "markdown",
   "id": "d8c2a7fa",
   "metadata": {},
   "source": [
    "Many Values to Multiple Variables"
   ]
  },
  {
   "cell_type": "code",
   "execution_count": 5,
   "id": "4a530779",
   "metadata": {},
   "outputs": [
    {
     "name": "stdout",
     "output_type": "stream",
     "text": [
      "Drashti\n",
      "Yash\n",
      "Dipam\n"
     ]
    }
   ],
   "source": [
    "x, y, z = \"Drashti\", \"Yash\", \"Dipam\"\n",
    "print(x)\n",
    "print(y)\n",
    "print(z)"
   ]
  },
  {
   "cell_type": "markdown",
   "id": "3a893ad5",
   "metadata": {},
   "source": [
    "Unpack a Collection : If you have a collection of values in a list, tuple etc. Python allows you to extract the values into variables. This is called unpacking."
   ]
  },
  {
   "cell_type": "code",
   "execution_count": 6,
   "id": "07ec0d66",
   "metadata": {},
   "outputs": [
    {
     "name": "stdout",
     "output_type": "stream",
     "text": [
      "Drashti\n",
      "Yash\n",
      "Dipam\n"
     ]
    }
   ],
   "source": [
    "names = [\"Drashti\", \"Yash\", \"Dipam\"]\n",
    "x, y, z = names\n",
    "print(x)\n",
    "print(y)\n",
    "print(z)"
   ]
  },
  {
   "cell_type": "markdown",
   "id": "5a06a8c7",
   "metadata": {},
   "source": [
    "One value to multiple variables"
   ]
  },
  {
   "cell_type": "code",
   "execution_count": 7,
   "id": "ddd1b6b5",
   "metadata": {},
   "outputs": [
    {
     "name": "stdout",
     "output_type": "stream",
     "text": [
      "Happy\n",
      "Happy\n",
      "Happy\n"
     ]
    }
   ],
   "source": [
    "x = y = z = \"Happy\"\n",
    "print(x)\n",
    "print(y)\n",
    "print(z)"
   ]
  },
  {
   "cell_type": "markdown",
   "id": "f6a3c90a",
   "metadata": {},
   "source": [
    "Output variables [print() ,Comma and + operator]"
   ]
  },
  {
   "cell_type": "code",
   "execution_count": 8,
   "id": "27b693cb",
   "metadata": {},
   "outputs": [
    {
     "name": "stdout",
     "output_type": "stream",
     "text": [
      "Today is a Good Day\n"
     ]
    }
   ],
   "source": [
    "str = \"Today is a Good Day\"\n",
    "print(str)"
   ]
  },
  {
   "cell_type": "code",
   "execution_count": 9,
   "id": "558c943e",
   "metadata": {},
   "outputs": [
    {
     "name": "stdout",
     "output_type": "stream",
     "text": [
      "Today is a Good Day\n"
     ]
    }
   ],
   "source": [
    "x = \"Today\"\n",
    "y = \"is a\"\n",
    "z = \"Good Day\"\n",
    "print(x, y, z)"
   ]
  },
  {
   "cell_type": "code",
   "execution_count": 10,
   "id": "4c64436c",
   "metadata": {},
   "outputs": [
    {
     "name": "stdout",
     "output_type": "stream",
     "text": [
      "Today is a Good Day\n"
     ]
    }
   ],
   "source": [
    "x = \"Today \"\n",
    "y = \"is a \"\n",
    "z = \"Good Day\"\n",
    "print(x + y + z)"
   ]
  },
  {
   "cell_type": "markdown",
   "id": "8635280e",
   "metadata": {},
   "source": [
    "Global Variable"
   ]
  },
  {
   "cell_type": "code",
   "execution_count": 11,
   "id": "6721d7da",
   "metadata": {},
   "outputs": [
    {
     "name": "stdout",
     "output_type": "stream",
     "text": [
      "Today is a Good Day\n"
     ]
    }
   ],
   "source": [
    "x = \"Good Day\"\n",
    "\n",
    "def myfunc():\n",
    "  print(\"Today is a \" + x)\n",
    "\n",
    "myfunc()"
   ]
  },
  {
   "cell_type": "markdown",
   "id": "e47d24cb",
   "metadata": {},
   "source": [
    "\"global\" keyword"
   ]
  },
  {
   "cell_type": "code",
   "execution_count": 12,
   "id": "d2d1ae2b",
   "metadata": {},
   "outputs": [
    {
     "name": "stdout",
     "output_type": "stream",
     "text": [
      "Today is a Good Day\n",
      "Good Food, Good Mood.\n"
     ]
    }
   ],
   "source": [
    "def myfunc():\n",
    "    global x\n",
    "    x = \"Good\"\n",
    "myfunc()\n",
    "print(\"Today is a \" + x + \" Day\")\n",
    "print(x + \" Food, \" + x + \" Mood.\")"
   ]
  },
  {
   "cell_type": "markdown",
   "id": "4b14ac97",
   "metadata": {},
   "source": [
    "# Python Data Types"
   ]
  },
  {
   "cell_type": "code",
   "execution_count": 13,
   "id": "02851081",
   "metadata": {},
   "outputs": [],
   "source": [
    "a = \"Hello World\" # str\n",
    "b = int(10) # int\n",
    "c = float(10.10) # float\n",
    "d = list((\"abc\",\"efg\",\"xyz\")) # list\n",
    "e = tuple((\"abc\",\"efg\",\"xyz\")) # tuple\n",
    "f = range(4) # range\n",
    "g = dict(name = \"watermelon\" , color = \"red\")\n",
    "h = set((\"abc\",\"efg\",\"xyz\")) # set\n",
    "i = frozenset((\"abc\",\"efg\",\"xyz\")) # frozenset\n",
    "j = bool(5) # bool\n",
    "k = bytearray(5) # bytearray\n",
    "l = memoryview(bytes(5)) #memoryview\n",
    "\n",
    "# what is diff b/t dict and list?\n",
    "# what is diff b/t list and tuple?\n",
    "# what is diff b/t mutable and immmutable variable?\n",
    "# what is diff b/t set and frozenset?"
   ]
  },
  {
   "cell_type": "code",
   "execution_count": 14,
   "id": "2714c8ad",
   "metadata": {},
   "outputs": [
    {
     "name": "stdout",
     "output_type": "stream",
     "text": [
      "Hello World\n",
      "10\n",
      "10.1\n",
      "['abc', 'efg', 'xyz']\n",
      "('abc', 'efg', 'xyz')\n",
      "range(0, 4)\n",
      "{'name': 'watermelon', 'color': 'red'}\n",
      "{'xyz', 'abc', 'efg'}\n",
      "frozenset({'xyz', 'abc', 'efg'})\n",
      "True\n",
      "bytearray(b'\\x00\\x00\\x00\\x00\\x00')\n",
      "<memory at 0x0000023188658640>\n"
     ]
    }
   ],
   "source": [
    "print(a)\n",
    "print(b)\n",
    "print(c)\n",
    "print(d)\n",
    "print(e)\n",
    "print(f)\n",
    "print(g)\n",
    "print(h)\n",
    "print(i)\n",
    "print(j)\n",
    "print(k)\n",
    "print(l)"
   ]
  },
  {
   "cell_type": "markdown",
   "id": "2f1bbab9",
   "metadata": {},
   "source": [
    "List - ordered, changeable, and allow duplicate values"
   ]
  },
  {
   "cell_type": "code",
   "execution_count": 15,
   "id": "a976b482",
   "metadata": {},
   "outputs": [
    {
     "name": "stdout",
     "output_type": "stream",
     "text": [
      "['apple', 'banana', 'cherry']\n",
      "3\n",
      "<class 'list'>\n"
     ]
    }
   ],
   "source": [
    "mylist = [\"apple\", \"banana\", \"cherry\"]\n",
    "print(mylist)\n",
    "print(len(mylist))\n",
    "print(type(mylist))"
   ]
  },
  {
   "cell_type": "code",
   "execution_count": 16,
   "id": "3af4472f",
   "metadata": {},
   "outputs": [
    {
     "name": "stdout",
     "output_type": "stream",
     "text": [
      "['apple', 'banana', 'cherry']\n"
     ]
    }
   ],
   "source": [
    "#The list() Constructor\n",
    "\n",
    "mylist = list((\"apple\", \"banana\", \"cherry\")) # note the double round-brackets\n",
    "print(mylist)\n",
    "\n",
    "#what is constructor?\n",
    "#A constructor is a special type of method (function) which is used to initialize the instance members of the class."
   ]
  },
  {
   "cell_type": "code",
   "execution_count": 32,
   "id": "0c96788c",
   "metadata": {},
   "outputs": [
    {
     "name": "stdout",
     "output_type": "stream",
     "text": [
      "banana\n",
      "Orange\n",
      "['cherry', 'kiwi']\n",
      "['apple', 'banana', 'cherry', 'kiwi']\n",
      "['cherry', 'kiwi', 'watermelon', 'Mango', 'Orange']\n",
      "['kiwi', 'watermelon', 'Mango']\n",
      "[]\n"
     ]
    }
   ],
   "source": [
    "mylist = [\"apple\", \"banana\", \"cherry\", \"kiwi\", \"watermelon\", \"Mango\",\"Orange\"]\n",
    "print(mylist[1]) # Display second item of the list\n",
    "print(mylist[-1]) # Display last item of the list\n",
    "print(mylist[2:4]) # Display range of the list[n:n-1]\n",
    "print(mylist[:4]) # Display range of the list\n",
    "print(mylist[2:]) # Display range of the list\n",
    "print(mylist[-4:-1]) # Display range of the list\n",
    "print(mylist[-1:-4])"
   ]
  },
  {
   "cell_type": "code",
   "execution_count": 18,
   "id": "c9658fda",
   "metadata": {},
   "outputs": [
    {
     "name": "stdout",
     "output_type": "stream",
     "text": [
      "['apple', 'guava', 'pineapple', 'kiwi', 'watermelon', 'Mango', 'Orange']\n"
     ]
    }
   ],
   "source": [
    "mylist = [\"apple\", \"banana\", \"cherry\", \"kiwi\", \"watermelon\", \"Mango\",\"Orange\"]\n",
    "mylist[1:3] = [\"guava\", \"pineapple\"]\n",
    "print(mylist)"
   ]
  },
  {
   "cell_type": "code",
   "execution_count": 19,
   "id": "befa63a4",
   "metadata": {},
   "outputs": [
    {
     "name": "stdout",
     "output_type": "stream",
     "text": [
      "['apple', 'banana', 'cherry', 'Mango', 'kiwi']\n",
      "['apple', 'banana', 'cherry', 'Mango', 'kiwi', 'apple1', 'banana1', 'cherry1']\n",
      "['apple', 'banana', 'cherry', 'Mango', 'kiwi', 'banana1', 'cherry1']\n",
      "['apple', 'banana', 'cherry', 'Mango', 'kiwi', 'banana1']\n",
      "['apple', 'banana', 'cherry', 'Mango', 'kiwi']\n",
      "[]\n",
      "['apple', 'banana', 'cherry']\n",
      "['cherry', 'banana', 'apple']\n"
     ]
    }
   ],
   "source": [
    "mylist = [\"apple\", \"banana\", \"cherry\"]\n",
    "mylist1 = [\"apple1\", \"banana1\", \"cherry1\"]\n",
    "mylist.append(\"kiwi\")\n",
    "mylist.insert(3,\"Mango\")\n",
    "print(mylist)\n",
    "mylist.extend(mylist1)\n",
    "print(mylist)\n",
    "\n",
    "#Remove List items\n",
    "mylist.remove(\"apple1\")\n",
    "print(mylist)\n",
    "mylist.pop(-1) # mylist.pop()\n",
    "print(mylist)\n",
    "del mylist[5] # using \"del\" keyword\n",
    "print(mylist)\n",
    "mylist.clear()\n",
    "print(mylist)\n",
    "\n",
    "#Sort List Items\n",
    "mylist = [\"apple\", \"cherry\", \"banana\"]\n",
    "mylist.sort() # sort the list alphanumerically, ascending\n",
    "print(mylist)\n",
    "mylist.sort(reverse = True)\n",
    "print(mylist)"
   ]
  },
  {
   "cell_type": "code",
   "execution_count": 20,
   "id": "76368b69",
   "metadata": {},
   "outputs": [],
   "source": [
    "# Python List/Array Methods\n",
    "\n",
    "# append()\tAdds an element at the end of the list\n",
    "# clear()\tRemoves all the elements from the list\n",
    "# copy()\tReturns a copy of the list\n",
    "# count()\tReturns the number of elements with the specified value\n",
    "# extend()\tAdd the elements of a list (or any iterable), to the end of the current list\n",
    "# index()\tReturns the index of the first element with the specified value\n",
    "# insert()\tAdds an element at the specified position\n",
    "# pop()\tRemoves the element at the specified position\n",
    "# remove()\tRemoves the first item with the specified value\n",
    "# reverse()\tReverses the order of the list\n",
    "# sort()\tSorts the list"
   ]
  },
  {
   "cell_type": "markdown",
   "id": "b09ca3a0",
   "metadata": {},
   "source": [
    "Python Tuples - ordered, unchangeable(immutable), and allow duplicate values"
   ]
  },
  {
   "cell_type": "code",
   "execution_count": 21,
   "id": "4a2f6a5d",
   "metadata": {},
   "outputs": [
    {
     "name": "stdout",
     "output_type": "stream",
     "text": [
      "('apple', 'banana', 'cherry')\n",
      "3\n",
      "<class 'tuple'>\n"
     ]
    }
   ],
   "source": [
    "mytuple = (\"apple\", \"banana\", \"cherry\")\n",
    "print(mytuple)\n",
    "print(len(mytuple))\n",
    "print(type(mytuple))"
   ]
  },
  {
   "cell_type": "code",
   "execution_count": 22,
   "id": "d325dac9",
   "metadata": {},
   "outputs": [
    {
     "name": "stdout",
     "output_type": "stream",
     "text": [
      "('apple', 'banana', 'cherry')\n"
     ]
    }
   ],
   "source": [
    "#The tuple() Constructor\n",
    "mytuple = tuple((\"apple\", \"banana\", \"cherry\")) # note the double round-brackets\n",
    "print(mytuple)"
   ]
  },
  {
   "cell_type": "code",
   "execution_count": 23,
   "id": "a4083f51",
   "metadata": {},
   "outputs": [
    {
     "name": "stdout",
     "output_type": "stream",
     "text": [
      "banana\n",
      "Orange\n",
      "('cherry', 'kiwi')\n",
      "('apple', 'banana', 'cherry', 'kiwi')\n",
      "('cherry', 'kiwi', 'watermelon', 'Mango', 'Orange')\n",
      "('kiwi', 'watermelon', 'Mango')\n"
     ]
    }
   ],
   "source": [
    "mytuple = (\"apple\", \"banana\", \"cherry\", \"kiwi\", \"watermelon\", \"Mango\",\"Orange\")\n",
    "print(mytuple[1]) # Display second item of the tuple\n",
    "print(mytuple[-1]) # Display last item of the tuple\n",
    "print(mytuple[2:4]) # Display range of the tuple\n",
    "print(mytuple[:4]) # Display range of the tuple\n",
    "print(mytuple[2:]) # Display range of the tuple\n",
    "print(mytuple[-4:-1]) # Display range of the tuple"
   ]
  },
  {
   "cell_type": "code",
   "execution_count": 24,
   "id": "fc0f2c70",
   "metadata": {},
   "outputs": [],
   "source": [
    "# Python - Tuple Methods\n",
    "\n",
    "# count()\tReturns the number of times a specified value occurs in a tuple\n",
    "# index()\tSearches the tuple for a specified value and returns the position of where it was found"
   ]
  },
  {
   "cell_type": "markdown",
   "id": "541f7821",
   "metadata": {},
   "source": [
    "Python Sets - unordered, unchangeable(immutable), and do not allow duplicate values"
   ]
  },
  {
   "cell_type": "code",
   "execution_count": 25,
   "id": "9376a73d",
   "metadata": {},
   "outputs": [
    {
     "name": "stdout",
     "output_type": "stream",
     "text": [
      "{'cherry', 'apple', 'banana'}\n",
      "3\n",
      "<class 'set'>\n"
     ]
    }
   ],
   "source": [
    "myset = {\"apple\", \"banana\", \"cherry\"}\n",
    "print(myset)\n",
    "print(len(myset))\n",
    "print(type(myset))"
   ]
  },
  {
   "cell_type": "code",
   "execution_count": 26,
   "id": "e4195ccb",
   "metadata": {},
   "outputs": [
    {
     "name": "stdout",
     "output_type": "stream",
     "text": [
      "{'cherry', 'apple', 'banana'}\n"
     ]
    }
   ],
   "source": [
    "# The set() Constructor\n",
    "thisset = set((\"apple\", \"banana\", \"cherry\")) # note the double round-brackets\n",
    "print(thisset)"
   ]
  },
  {
   "cell_type": "code",
   "execution_count": 27,
   "id": "80815cef",
   "metadata": {},
   "outputs": [
    {
     "name": "stdout",
     "output_type": "stream",
     "text": [
      "{'cherry', 'apple', 'banana', 'orange'}\n",
      "{'cherry', 'apple', 'orange'}\n",
      "{'cherry', 'apple'}\n",
      "{'apple'}\n"
     ]
    }
   ],
   "source": [
    "myset = {\"apple\", \"banana\", \"cherry\"}\n",
    "myset.add(\"orange\")\n",
    "print(myset)\n",
    "\n",
    "myset.remove(\"banana\")\n",
    "print(myset)\n",
    "\n",
    "myset.discard(\"orange\")\n",
    "print(myset)\n",
    "\n",
    "myset.pop()\n",
    "print(myset)\n"
   ]
  },
  {
   "cell_type": "code",
   "execution_count": 28,
   "id": "ed241c79",
   "metadata": {},
   "outputs": [],
   "source": [
    "# Python - Set Methods\n",
    "\n",
    "# add()\tAdds an element to the set\n",
    "# clear()\tRemoves all the elements from the set\n",
    "# copy()\tReturns a copy of the set\n",
    "# difference()\tReturns a set containing the difference between two or more sets\n",
    "# difference_update()\tRemoves the items in this set that are also included in another, specified set\n",
    "# discard()\tRemove the specified item\n",
    "# intersection()\tReturns a set, that is the intersection of two other sets\n",
    "# intersection_update()\tRemoves the items in this set that are not present in other, specified set(s)\n",
    "# isdisjoint()\tReturns whether two sets have a intersection or not\n",
    "# issubset()\tReturns whether another set contains this set or not\n",
    "# issuperset()\tReturns whether this set contains another set or not\n",
    "# pop()\tRemoves an element from the set\n",
    "# remove()\tRemoves the specified element\n",
    "# symmetric_difference()\tReturns a set with the symmetric differences of two sets\n",
    "# symmetric_difference_update()\tinserts the symmetric differences from this set and another\n",
    "# union()\tReturn a set containing the union of sets\n",
    "# update()\tUpdate the set with the union of this set and others"
   ]
  },
  {
   "cell_type": "markdown",
   "id": "c81185d0",
   "metadata": {},
   "source": [
    "Python Dictionaries - ordered, changeable, and does not allow duplicates"
   ]
  },
  {
   "cell_type": "code",
   "execution_count": 29,
   "id": "30843e14",
   "metadata": {},
   "outputs": [
    {
     "name": "stdout",
     "output_type": "stream",
     "text": [
      "{'name': 'Mango', 'color': 'Yellow', 'season': 'Summer'}\n",
      "Mango\n",
      "3\n"
     ]
    }
   ],
   "source": [
    "mydict = {\n",
    "    \"name\": \"Mango\",\n",
    "    \"color\": \"Yellow\",\n",
    "    \"season\": \"Summer\"\n",
    "}\n",
    "print(mydict)\n",
    "print(mydict[\"name\"])\n",
    "print(len(mydict))"
   ]
  },
  {
   "cell_type": "code",
   "execution_count": 30,
   "id": "aa94dc52",
   "metadata": {},
   "outputs": [
    {
     "name": "stdout",
     "output_type": "stream",
     "text": [
      "{'name': 'Mango', 'color': 'Yellow', 'season': 'Summer', 'Type': 'Kesar'}\n",
      "{'name': 'Mango', 'color': 'Yellow', 'season': 'Summer'}\n"
     ]
    }
   ],
   "source": [
    "# Adding item in the dictionary\n",
    "mydict[\"Type\"] = \"Kesar\" # mydict.update({\"Type\": \"Kesar\"})\n",
    "print(mydict)\n",
    "\n",
    "# Removing item in the dictonary\n",
    "mydict.pop(\"Type\")\n",
    "print(mydict)\n"
   ]
  },
  {
   "cell_type": "code",
   "execution_count": 31,
   "id": "4cdbc9ba",
   "metadata": {},
   "outputs": [],
   "source": [
    "# Dictionary Methods\n",
    "\n",
    "# clear()\tRemoves all the elements from the dictionary\n",
    "# copy()\tReturns a copy of the dictionary\n",
    "# fromkeys()\tReturns a dictionary with the specified keys and value\n",
    "# get()\tReturns the value of the specified key\n",
    "# items()\tReturns a list containing a tuple for each key value pair\n",
    "# keys()\tReturns a list containing the dictionary's keys\n",
    "# pop()\tRemoves the element with the specified key\n",
    "# popitem()\tRemoves the last inserted key-value pair\n",
    "# setdefault()\tReturns the value of the specified key. If the key does not exist: insert the key, with the specified value\n",
    "# update()\tUpdates the dictionary with the specified key-value pairs\n",
    "# values()\tReturns a list of all the values in the dictionary"
   ]
  },
  {
   "cell_type": "code",
   "execution_count": null,
   "id": "7ff58f36",
   "metadata": {},
   "outputs": [],
   "source": []
  }
 ],
 "metadata": {
  "kernelspec": {
   "display_name": "Python 3",
   "language": "python",
   "name": "python3"
  },
  "language_info": {
   "codemirror_mode": {
    "name": "ipython",
    "version": 3
   },
   "file_extension": ".py",
   "mimetype": "text/x-python",
   "name": "python",
   "nbconvert_exporter": "python",
   "pygments_lexer": "ipython3",
   "version": "3.8.8"
  }
 },
 "nbformat": 4,
 "nbformat_minor": 5
}
