{
 "cells": [
  {
   "cell_type": "markdown",
   "metadata": {},
   "source": [
    "Simple Function"
   ]
  },
  {
   "cell_type": "code",
   "execution_count": 2,
   "metadata": {},
   "outputs": [],
   "source": [
    "# create simple python function\n",
    "def fun():\n",
    "    print(\"Hello\")"
   ]
  },
  {
   "cell_type": "code",
   "execution_count": 3,
   "metadata": {},
   "outputs": [
    {
     "name": "stdout",
     "output_type": "stream",
     "text": [
      "Hello\n"
     ]
    }
   ],
   "source": [
    "# simple function\n",
    "def fun():\n",
    "    print(\"Hello\")\n",
    "# code to call function\n",
    "fun()"
   ]
  },
  {
   "cell_type": "markdown",
   "metadata": {},
   "source": [
    "Function with parameter"
   ]
  },
  {
   "cell_type": "code",
   "execution_count": 5,
   "metadata": {},
   "outputs": [
    {
     "name": "stdout",
     "output_type": "stream",
     "text": [
      "25\n"
     ]
    }
   ],
   "source": [
    "def add(num1 : int,num2 : int) -> int:\n",
    "    # Add two number\n",
    "    num3 = num1 + num2\n",
    "\n",
    "    return num3\n",
    "num1, num2 = 10,15\n",
    "ans = add(num1,num2)\n",
    "print(ans)"
   ]
  },
  {
   "cell_type": "code",
   "execution_count": 13,
   "metadata": {},
   "outputs": [
    {
     "name": "stdout",
     "output_type": "stream",
     "text": [
      "Function to check if the number is even or odd\n"
     ]
    }
   ],
   "source": [
    "# Documents string\n",
    "def evenOdd(x):\n",
    "    \"\"\"Function to check if the number is even or odd\"\"\"\n",
    "     \n",
    "    if (x % 2 == 0):\n",
    "        print(\"even\")\n",
    "    else:\n",
    "        print(\"odd\")\n",
    " \n",
    " \n",
    "# Driver code to call the function\n",
    "print(evenOdd.__doc__)"
   ]
  },
  {
   "cell_type": "markdown",
   "metadata": {},
   "source": [
    "## Types of Arguments"
   ]
  },
  {
   "cell_type": "markdown",
   "metadata": {},
   "source": [
    "1. Default Arguments"
   ]
  },
  {
   "cell_type": "code",
   "execution_count": 33,
   "metadata": {},
   "outputs": [
    {
     "name": "stdout",
     "output_type": "stream",
     "text": [
      "1\n",
      "20\n"
     ]
    }
   ],
   "source": [
    "def my_fun(x,y=10):\n",
    "    print(x)\n",
    "    print(y)\n",
    "\n",
    "my_fun(1,20)"
   ]
  },
  {
   "cell_type": "markdown",
   "metadata": {},
   "source": [
    "2. Keyword Arguments"
   ]
  },
  {
   "cell_type": "code",
   "execution_count": 22,
   "metadata": {},
   "outputs": [
    {
     "name": "stdout",
     "output_type": "stream",
     "text": [
      "Geeks Practice\n",
      "Geeks Practice\n"
     ]
    }
   ],
   "source": [
    "# Python program to demonstrate Keyword Arguments\n",
    "def student(firstname, lastname):\n",
    "\tprint(firstname, lastname)\n",
    "\n",
    "\n",
    "# Keyword arguments\n",
    "student(firstname='Geeks', lastname='Practice')\n",
    "student(lastname='Practice', firstname='Geeks')\n"
   ]
  },
  {
   "cell_type": "markdown",
   "metadata": {},
   "source": [
    "## Variable-length arguments"
   ]
  },
  {
   "cell_type": "markdown",
   "metadata": {},
   "source": [
    "1. *args (Non-Keyword Arguments)\n",
    "2. **kwargs (Keyword Arguments)"
   ]
  },
  {
   "cell_type": "code",
   "execution_count": 23,
   "metadata": {},
   "outputs": [
    {
     "name": "stdout",
     "output_type": "stream",
     "text": [
      "Hello\n",
      "Welcome\n",
      "to\n",
      "GeeksforGeeks\n"
     ]
    }
   ],
   "source": [
    "\n",
    "# Python program to illustrate\n",
    "# *args for variable number of arguments\n",
    " \n",
    " \n",
    "def myFun(*argv):\n",
    "    for arg in argv:\n",
    "        print(arg)\n",
    " \n",
    " \n",
    "myFun('Hello', 'Welcome', 'to', 'GeeksforGeeks')"
   ]
  },
  {
   "cell_type": "code",
   "execution_count": 35,
   "metadata": {},
   "outputs": [
    {
     "name": "stdout",
     "output_type": "stream",
     "text": [
      "first == Geeks\n",
      "mid == for\n",
      "last == Geeks\n"
     ]
    }
   ],
   "source": [
    "# Python program to illustrate\n",
    "# *kwargs for variable number of keyword arguments\n",
    " \n",
    "def myFun(**kwargs):\n",
    "    for key, value in kwargs.items():\n",
    "        print(\"%s == %s\" % (key,value))\n",
    " \n",
    " \n",
    "# Driver code\n",
    "myFun(first='Geeks', mid='for', last='Geeks')"
   ]
  },
  {
   "cell_type": "markdown",
   "metadata": {},
   "source": [
    "## Python Function within Functions"
   ]
  },
  {
   "cell_type": "code",
   "execution_count": 31,
   "metadata": {},
   "outputs": [
    {
     "name": "stdout",
     "output_type": "stream",
     "text": [
      "Hello\n"
     ]
    }
   ],
   "source": [
    "# Python program to\n",
    "# demonstrate accessing of\n",
    "# variables of nested functions\n",
    "\n",
    "def f1():\n",
    "\ts = 'Hello'\n",
    "\t\n",
    "\tdef f2():\n",
    "\t\tprint(s)\n",
    "\t\t\n",
    "\tf2()\n",
    "\n",
    "# Driver's code\n",
    "f1()\n"
   ]
  },
  {
   "cell_type": "code",
   "execution_count": 32,
   "metadata": {},
   "outputs": [
    {
     "name": "stdout",
     "output_type": "stream",
     "text": [
      "Hello my name is John\n"
     ]
    }
   ],
   "source": [
    "class Person:\n",
    "  def __init__(self, name, age):\n",
    "    self.name = name\n",
    "    self.age = age\n",
    "\n",
    "  def myfunc(self):\n",
    "    print(\"Hello my name is \" + self.name)\n",
    "\n",
    "p1 = Person(\"John\", 36)\n",
    "p1.myfunc()"
   ]
  },
  {
   "cell_type": "code",
   "execution_count": null,
   "metadata": {},
   "outputs": [],
   "source": []
  }
 ],
 "metadata": {
  "kernelspec": {
   "display_name": "Python 3.8.8 ('base')",
   "language": "python",
   "name": "python3"
  },
  "language_info": {
   "codemirror_mode": {
    "name": "ipython",
    "version": 3
   },
   "file_extension": ".py",
   "mimetype": "text/x-python",
   "name": "python",
   "nbconvert_exporter": "python",
   "pygments_lexer": "ipython3",
   "version": "3.8.8"
  },
  "orig_nbformat": 4,
  "vscode": {
   "interpreter": {
    "hash": "ad2bdc8ecc057115af97d19610ffacc2b4e99fae6737bb82f5d7fb13d2f2c186"
   }
  }
 },
 "nbformat": 4,
 "nbformat_minor": 2
}
