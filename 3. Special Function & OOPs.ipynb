{
 "cells": [
  {
   "cell_type": "markdown",
   "id": "ce8ace48",
   "metadata": {},
   "source": [
    "# Enumerate()"
   ]
  },
  {
   "cell_type": "code",
   "execution_count": 3,
   "id": "1c1571d1",
   "metadata": {},
   "outputs": [
    {
     "name": "stdout",
     "output_type": "stream",
     "text": [
      "(0, 'chair')\n",
      "(1, 'table')\n",
      "(2, 'closet')\n",
      "(3, 'lamp')\n",
      "Index: 0, Item: chair \n",
      "Index: 1, Item: table \n",
      "Index: 2, Item: closet \n",
      "Index: 3, Item: lamp \n"
     ]
    }
   ],
   "source": [
    "# list of products\n",
    "products = ['chair', 'table', 'closet', 'lamp']\n",
    "\n",
    "# for loop without tuple unpacking\n",
    "for product_index in enumerate(products):\n",
    "    print(product_index)\n",
    "\n",
    "# for loop with tuple unpacking\n",
    "for index, item in enumerate(products):\n",
    "    print('Index: {}, Item: {} '.format(index, item))"
   ]
  },
  {
   "cell_type": "markdown",
   "id": "5aeb4668",
   "metadata": {},
   "source": [
    "# Enumerate() start with index 1"
   ]
  },
  {
   "cell_type": "code",
   "execution_count": 5,
   "id": "801b705f",
   "metadata": {},
   "outputs": [
    {
     "name": "stdout",
     "output_type": "stream",
     "text": [
      "(1, 'chair')\n",
      "(2, 'table')\n",
      "(3, 'closet')\n",
      "(4, 'lamp')\n",
      "Index: 1, Item: chair \n",
      "Index: 2, Item: table \n",
      "Index: 3, Item: closet \n",
      "Index: 4, Item: lamp \n"
     ]
    }
   ],
   "source": [
    "# list of products\n",
    "products = ['chair', 'table', 'closet', 'lamp']\n",
    "\n",
    "# for loop without tuple unpacking\n",
    "for product_index in enumerate(products, start = 1):\n",
    "    print(product_index)\n",
    "\n",
    "# for loop with tuple unpacking\n",
    "for index, item in enumerate(products, start = 1):\n",
    "    print('Index: {}, Item: {} '.format(index, item))"
   ]
  },
  {
   "cell_type": "code",
   "execution_count": null,
   "id": "4b537f12",
   "metadata": {},
   "outputs": [],
   "source": []
  },
  {
   "cell_type": "markdown",
   "id": "6b162aab",
   "metadata": {},
   "source": [
    "# EVAL()\n",
    "\n",
    "### The eval(expression[, globals[, locals]]) function executes a string containing Python code and returns the result. This function takes 3 arguments: (1) expression, (2) globals, and (3) locals. The first argument contains the string to be evaluated as a Python expression. The other two arguments are optional and contain global/local methods and variables."
   ]
  },
  {
   "cell_type": "code",
   "execution_count": 17,
   "id": "d5a5e721",
   "metadata": {},
   "outputs": [
    {
     "name": "stdout",
     "output_type": "stream",
     "text": [
      "boolean expression : False\n",
      "boolean expression : True\n",
      "mathematical expression : 8\n",
      "mathematical expression : 3\n",
      "multiply by two : 16\n"
     ]
    }
   ],
   "source": [
    "# evaluate a boolean expression\n",
    "print('boolean expression :',eval('5 in [1, 2, 3]'))\n",
    "# False\n",
    "\n",
    "print('boolean expression :',eval('4 < 9'))\n",
    "# True\n",
    "\n",
    "# evaluate a mathematical expression\n",
    "print('mathematical expression :', eval('5 + 3'))\n",
    "# 8\n",
    "\n",
    "print('mathematical expression :', eval('7 // 2'))\n",
    "# 3\n",
    "\n",
    "# define a function - multiply_by_two \n",
    "def multiply_by_two(x):\n",
    "    return 2 * x\n",
    "\n",
    "# call the function with eval\n",
    "print('multiply by two :', eval('multiply_by_two(8)'))"
   ]
  },
  {
   "cell_type": "code",
   "execution_count": null,
   "id": "66f7c1bc",
   "metadata": {},
   "outputs": [],
   "source": []
  },
  {
   "cell_type": "markdown",
   "id": "cea49814",
   "metadata": {},
   "source": [
    "# HASH()"
   ]
  },
  {
   "cell_type": "markdown",
   "id": "cb85f7b6",
   "metadata": {},
   "source": [
    "### The hash() function returns the hash value of an object (if it has one), meaning provides the index to look up in a hash table."
   ]
  },
  {
   "cell_type": "code",
   "execution_count": 21,
   "id": "910c9b1f",
   "metadata": {},
   "outputs": [
    {
     "name": "stdout",
     "output_type": "stream",
     "text": [
      "Integer hash : 5\n",
      "String hash : 1955222917372558872\n",
      "Tuple hash : 6794810172467074373\n"
     ]
    }
   ],
   "source": [
    "# the hash function provides an integer if an immutable object is provided\n",
    "\n",
    "# integer\n",
    "print('Integer hash :', hash(5))\n",
    "# 5\n",
    "\n",
    "# string \n",
    "print('String hash :', hash('Madrid'))\n",
    "# -5034564451622493163\n",
    "\n",
    "# tuple\n",
    "print('Tuple hash :', hash((2,1)))\n"
   ]
  },
  {
   "cell_type": "code",
   "execution_count": null,
   "id": "82c1f845",
   "metadata": {},
   "outputs": [],
   "source": []
  },
  {
   "cell_type": "markdown",
   "id": "e1533308",
   "metadata": {},
   "source": [
    "# RANGE()\n",
    "\n",
    "### The range([start], stop, [step]) function returns an immutable sequence of integers (range object), taking as input three parameters"
   ]
  },
  {
   "cell_type": "code",
   "execution_count": 25,
   "id": "55be426c",
   "metadata": {},
   "outputs": [
    {
     "name": "stdout",
     "output_type": "stream",
     "text": [
      "Range between 0 to 10 : range(0, 11)\n",
      "Range of 1 to 4 : range(1, 5)\n",
      "Range of 2 to 10 with iteration of 2 : range(2, 11, 2)\n",
      "Reverse range from 10 to 1 : range(10, 0, -1)\n"
     ]
    }
   ],
   "source": [
    "# [0, 1, 2, 3, 4, 5, 6, 7, 8, 9, 10]\n",
    "print('Range between 0 to 10 :', range(11))\n",
    "\n",
    "# [1, 2, 3, 4]\n",
    "print('Range of 1 to 4 :', range(1, 5))\n",
    "\n",
    "# [2, 4, 6, 8, 10]\n",
    "print('Range of 2 to 10 with iteration of 2 :', range(2, 11, 2))\n",
    "\n",
    "# [10, 9, 8, 7, 6, 5, 4, 3, 2, 1]\n",
    "print('Reverse range from 10 to 1 :', range(10, 0, -1))"
   ]
  },
  {
   "cell_type": "code",
   "execution_count": null,
   "id": "8e874899",
   "metadata": {},
   "outputs": [],
   "source": []
  },
  {
   "cell_type": "markdown",
   "id": "51269d90",
   "metadata": {},
   "source": [
    "# LEN()\n",
    "\n",
    "### The len(object) function returns the number of items in an object."
   ]
  },
  {
   "cell_type": "code",
   "execution_count": 26,
   "id": "20f15f64",
   "metadata": {},
   "outputs": [
    {
     "data": {
      "text/plain": [
       "2"
      ]
     },
     "execution_count": 26,
     "metadata": {},
     "output_type": "execute_result"
    }
   ],
   "source": [
    "import numpy as np\n",
    "import pandas as pd\n",
    "\n",
    "# a collection - list\n",
    "len([1, 2, 3])\n",
    "# 3\n",
    "\n",
    "# a sequence - string\n",
    "len('Madrid')\n",
    "# 6\n",
    "\n",
    "# a numpy array\n",
    "len(np.array([1, 2, 3]))\n",
    "# 3\n",
    "\n",
    "# a pandas Series\n",
    "len(pd.Series(['Madrid', 'Valencia']))"
   ]
  },
  {
   "cell_type": "code",
   "execution_count": 27,
   "id": "d2bd226c",
   "metadata": {},
   "outputs": [
    {
     "name": "stdout",
     "output_type": "stream",
     "text": [
      "Valencia\n",
      "Munich\n",
      "Madrid\n"
     ]
    }
   ],
   "source": [
    "# list of cities\n",
    "cities = ['Valencia', 'Munich', 'Madrid']\n",
    "\n",
    "# iterate over the indeces of the list\n",
    "for index in range(len(cities)):\n",
    "    print(cities[index])"
   ]
  },
  {
   "cell_type": "code",
   "execution_count": null,
   "id": "dfcbe110",
   "metadata": {},
   "outputs": [],
   "source": []
  },
  {
   "cell_type": "markdown",
   "id": "72180c9e",
   "metadata": {},
   "source": [
    "# ROUND()\n",
    "\n",
    "### The round(number[, ndigits]) function returns a floating-point number rounded to n digits after the decimal point."
   ]
  },
  {
   "cell_type": "code",
   "execution_count": 28,
   "id": "76c19f55",
   "metadata": {},
   "outputs": [
    {
     "name": "stdout",
     "output_type": "stream",
     "text": [
      "3.14\n",
      "<class 'float'>\n",
      "3\n",
      "<class 'int'>\n"
     ]
    }
   ],
   "source": [
    "pi = 3.141592\n",
    "\n",
    "# round the pi number to two decimal places\n",
    "pi_2 = round(pi, 2)\n",
    "print(pi_2)\n",
    "# 3.14\n",
    "print(type(pi_2))\n",
    "# <class 'float'>\n",
    "\n",
    "# round the pi number to the nearest integer\n",
    "pi_int = round(pi)\n",
    "print(pi_int)\n",
    "# 3\n",
    "print(type(pi_int))"
   ]
  },
  {
   "cell_type": "code",
   "execution_count": null,
   "id": "42637eb1",
   "metadata": {},
   "outputs": [],
   "source": []
  },
  {
   "cell_type": "markdown",
   "id": "9643104e",
   "metadata": {},
   "source": [
    "# SORTED()\n",
    "\n",
    "### Python gives us an easy and smart way to sort any iterables using the function "
   ]
  },
  {
   "cell_type": "code",
   "execution_count": 31,
   "id": "fb5392b9",
   "metadata": {},
   "outputs": [
    {
     "data": {
      "text/plain": [
       "[1, 2, 3, 4, 5]"
      ]
     },
     "execution_count": 31,
     "metadata": {},
     "output_type": "execute_result"
    }
   ],
   "source": [
    "sorted([4,3,2,5,1])"
   ]
  },
  {
   "cell_type": "code",
   "execution_count": null,
   "id": "eff6e416",
   "metadata": {},
   "outputs": [],
   "source": []
  },
  {
   "cell_type": "markdown",
   "id": "39e7636b",
   "metadata": {},
   "source": [
    "# REVERSED()\n",
    "\n",
    "### When you want to reverse an iterable, it makes it extremely easy."
   ]
  },
  {
   "cell_type": "code",
   "execution_count": 33,
   "id": "45c34fa6",
   "metadata": {},
   "outputs": [
    {
     "data": {
      "text/plain": [
       "[1, 5, 2, 3, 4]"
      ]
     },
     "execution_count": 33,
     "metadata": {},
     "output_type": "execute_result"
    }
   ],
   "source": [
    "list(reversed([4,3,2,5,1]))"
   ]
  },
  {
   "cell_type": "code",
   "execution_count": null,
   "id": "bcf3aa0d",
   "metadata": {},
   "outputs": [],
   "source": []
  },
  {
   "cell_type": "markdown",
   "id": "a784230b",
   "metadata": {},
   "source": [
    "# ZIP()\n",
    "\n",
    "### It is created for easily iterating the elements from two lists correspondingly."
   ]
  },
  {
   "cell_type": "code",
   "execution_count": 34,
   "id": "374e336e",
   "metadata": {},
   "outputs": [
    {
     "name": "stdout",
     "output_type": "stream",
     "text": [
      "1 a\n",
      "2 b\n",
      "3 c\n"
     ]
    }
   ],
   "source": [
    "for num, letter in zip([1, 2, 3], ['a', 'b', 'c']):\n",
    "    print(num, letter)"
   ]
  },
  {
   "cell_type": "code",
   "execution_count": null,
   "id": "b016bfaf",
   "metadata": {},
   "outputs": [],
   "source": []
  },
  {
   "cell_type": "markdown",
   "id": "01606752",
   "metadata": {},
   "source": [
    "# class method vs static method in Python"
   ]
  },
  {
   "cell_type": "code",
   "execution_count": 36,
   "id": "5188069a",
   "metadata": {},
   "outputs": [
    {
     "name": "stdout",
     "output_type": "stream",
     "text": [
      "21\n",
      "26\n",
      "True\n"
     ]
    }
   ],
   "source": [
    "# use of class method and static method.\n",
    "from datetime import date\n",
    "\n",
    "\n",
    "class Person:\n",
    "    def __init__(self, name, age):\n",
    "        self.name = name\n",
    "        self.age = age\n",
    "\n",
    "    # a class method to create a Person object by birth year.\n",
    "    @classmethod\n",
    "    def fromBirthYear(cls, name, year):\n",
    "        return cls(name, date.today().year - year)\n",
    "\n",
    "    # a static method to check if a Person is adult or not.\n",
    "    @staticmethod\n",
    "    def isAdult(age):\n",
    "        return age > 18\n",
    "\n",
    "\n",
    "person1 = Person('mayank', 21)\n",
    "person2 = Person.fromBirthYear('mayank', 1996)\n",
    "\n",
    "print(person1.age)\n",
    "print(person2.age)\n",
    "\n",
    "# print the result\n",
    "print(Person.isAdult(22))"
   ]
  },
  {
   "cell_type": "code",
   "execution_count": null,
   "id": "6b3a59a2",
   "metadata": {},
   "outputs": [],
   "source": []
  },
  {
   "cell_type": "markdown",
   "id": "0bc5d14f",
   "metadata": {},
   "source": [
    "# Write an empty function in Python – pass statement."
   ]
  },
  {
   "cell_type": "code",
   "execution_count": 37,
   "id": "df29a710",
   "metadata": {},
   "outputs": [],
   "source": [
    "def fun(): \n",
    "    pass"
   ]
  },
  {
   "cell_type": "code",
   "execution_count": null,
   "id": "ecda2abd",
   "metadata": {},
   "outputs": [],
   "source": []
  },
  {
   "cell_type": "markdown",
   "id": "f38b0064",
   "metadata": {},
   "source": [
    "# YIELD()\n",
    "\n",
    "### The yield statement suspends function’s execution and sends a value back to the caller"
   ]
  },
  {
   "cell_type": "code",
   "execution_count": 38,
   "id": "41322282",
   "metadata": {},
   "outputs": [
    {
     "name": "stdout",
     "output_type": "stream",
     "text": [
      "1\n",
      "2\n",
      "3\n"
     ]
    }
   ],
   "source": [
    "def simpleGeneratorFun():\n",
    "    yield 1\n",
    "    yield 2\n",
    "    yield 3\n",
    "    \n",
    "# Driver code to check above generator function\n",
    "for value in simpleGeneratorFun(): \n",
    "    print(value)"
   ]
  },
  {
   "cell_type": "code",
   "execution_count": null,
   "id": "d7a11f58",
   "metadata": {},
   "outputs": [],
   "source": []
  },
  {
   "cell_type": "markdown",
   "id": "d67ac44d",
   "metadata": {},
   "source": [
    "# Returning Multiple Values."
   ]
  },
  {
   "cell_type": "code",
   "execution_count": 39,
   "id": "4861f56b",
   "metadata": {},
   "outputs": [
    {
     "name": "stdout",
     "output_type": "stream",
     "text": [
      "geeksforgeeks\n",
      "20\n"
     ]
    }
   ],
   "source": [
    "class Test:\n",
    "    def __init__(self):\n",
    "        self.str = \"geeksforgeeks\"\n",
    "        self.x = 20   \n",
    "        \n",
    "# This function returns an object of Test\n",
    "def fun():\n",
    "    return Test()\n",
    "      \n",
    "# Driver code to test above method\n",
    "t = fun() \n",
    "print(t.str)\n",
    "print(t.x)"
   ]
  },
  {
   "cell_type": "code",
   "execution_count": null,
   "id": "6d58ad75",
   "metadata": {},
   "outputs": [],
   "source": []
  },
  {
   "cell_type": "markdown",
   "id": "c04c53c2",
   "metadata": {},
   "source": [
    "# Partial Functions in Python.\n",
    "\n",
    "### Partial functions allow us to fix a certain number of arguments of a function and generate a new function."
   ]
  },
  {
   "cell_type": "code",
   "execution_count": 40,
   "id": "ac842b76",
   "metadata": {},
   "outputs": [
    {
     "name": "stdout",
     "output_type": "stream",
     "text": [
      "312\n"
     ]
    }
   ],
   "source": [
    "from functools import *\n",
    "  \n",
    "# A normal function\n",
    "def add(a, b, c):\n",
    "    return 100 * a + 10 * b + c\n",
    "  \n",
    "# A partial function with b = 1 and c = 2\n",
    "add_part = partial(add, c = 2, b = 1)\n",
    "  \n",
    "# Calling partial function\n",
    "print(add_part(3))"
   ]
  },
  {
   "cell_type": "code",
   "execution_count": null,
   "id": "84964f31",
   "metadata": {},
   "outputs": [],
   "source": []
  },
  {
   "cell_type": "markdown",
   "id": "888f7dc3",
   "metadata": {},
   "source": [
    "# First Class functions.\n",
    "\n",
    "### Functions can be passed as arguments to other functions."
   ]
  },
  {
   "cell_type": "code",
   "execution_count": 43,
   "id": "40c48482",
   "metadata": {},
   "outputs": [
    {
     "name": "stdout",
     "output_type": "stream",
     "text": [
      "HI, I AM CREATED BY A FUNCTION PASSED AS AN ARGUMENT.\n",
      "hi, i am created by a function passed as an argument.\n"
     ]
    }
   ],
   "source": [
    "def shout(text):\n",
    "    return text.upper()\n",
    "  \n",
    "def whisper(text):\n",
    "    return text.lower()\n",
    "  \n",
    "def greet(func):\n",
    "    # storing the function in a variable\n",
    "    greeting = func(\"\"\"Hi, I am created by a function passed as an argument.\"\"\")\n",
    "    print (greeting) \n",
    "  \n",
    "greet(shout)\n",
    "greet(whisper)"
   ]
  },
  {
   "cell_type": "code",
   "execution_count": null,
   "id": "8bc84d83",
   "metadata": {},
   "outputs": [],
   "source": []
  },
  {
   "cell_type": "markdown",
   "id": "725dd4b1",
   "metadata": {},
   "source": [
    "# Precision Handling\n",
    "\n",
    "### Python allows handling the precision of floating-point numbers in several ways using different functions."
   ]
  },
  {
   "cell_type": "markdown",
   "id": "3b6c4161",
   "metadata": {},
   "source": [
    "#### ceil(), trunc() and floor()"
   ]
  },
  {
   "cell_type": "code",
   "execution_count": 45,
   "id": "bb3c4752",
   "metadata": {},
   "outputs": [
    {
     "name": "stdout",
     "output_type": "stream",
     "text": [
      "The integral value of number is : 3\n",
      "The smallest integer greater than number is : 4\n",
      "The greatest integer smaller than number is : 3\n"
     ]
    }
   ],
   "source": [
    "import math\n",
    " \n",
    "# initializing value\n",
    "a = 3.4536\n",
    " \n",
    "# using trunc() to print integer after truncating\n",
    "print(\"The integral value of number is : \", end=\"\")\n",
    "print(math.trunc(a))\n",
    " \n",
    "# using ceil() to print number after ceiling\n",
    "print(\"The smallest integer greater than number is : \", end=\"\")\n",
    "print(math.ceil(a))\n",
    " \n",
    "# using floor() to print number after flooring\n",
    "print(\"The greatest integer smaller than number is : \", end=\"\")\n",
    "print(math.floor(a))"
   ]
  },
  {
   "cell_type": "markdown",
   "id": "9f30efc3",
   "metadata": {},
   "source": [
    "#### Limit Floats to Two Decimal Points."
   ]
  },
  {
   "cell_type": "code",
   "execution_count": 46,
   "id": "309d9142",
   "metadata": {},
   "outputs": [
    {
     "name": "stdout",
     "output_type": "stream",
     "text": [
      "The value of number till 2 decimal place(using %) is : 3.45\n",
      "The value of number till 2 decimal place(using format()) is : 3.454\n",
      "The value of number till 2 decimal place(using round()) is : 3.45\n"
     ]
    }
   ],
   "source": [
    "a = 3.4536\n",
    " \n",
    "# using \"%\" to print value till 2 decimal places\n",
    "print(\"The value of number till 2 decimal place(using %) is : \", end=\"\")\n",
    "print('%.2f' % a)\n",
    " \n",
    "# using format() to print value till 3 decimal places\n",
    "print(\"The value of number till 2 decimal place(using format()) is : \", end=\"\")\n",
    "print(\"{0:.3f}\".format(a))\n",
    " \n",
    "# using round() to print value till 2 decimal places\n",
    "print(\"The value of number till 2 decimal place(using round()) is : \", end=\"\")\n",
    "print(round(a, 2))"
   ]
  },
  {
   "cell_type": "code",
   "execution_count": null,
   "id": "972ce625",
   "metadata": {},
   "outputs": [],
   "source": []
  },
  {
   "cell_type": "markdown",
   "id": "bfab7d73",
   "metadata": {},
   "source": [
    "# *args and **kwargs"
   ]
  },
  {
   "cell_type": "code",
   "execution_count": 49,
   "id": "2515726a",
   "metadata": {},
   "outputs": [
    {
     "name": "stdout",
     "output_type": "stream",
     "text": [
      "First argument : Hello\n",
      "Next argument through *argv : Welcome\n",
      "Next argument through *argv : to\n",
      "Next argument through *argv : GeeksforGeeks\n"
     ]
    }
   ],
   "source": [
    "# args\n",
    "# It is used to pass a non-key worded, variable-length argument list. \n",
    "def myFun(arg1, *argv):\n",
    "    print(\"First argument :\", arg1)\n",
    "    for arg in argv:\n",
    "        print(\"Next argument through *argv :\", arg)\n",
    "\n",
    "myFun('Hello', 'Welcome', 'to', 'GeeksforGeeks')"
   ]
  },
  {
   "cell_type": "code",
   "execution_count": 50,
   "id": "787116d3",
   "metadata": {},
   "outputs": [
    {
     "name": "stdout",
     "output_type": "stream",
     "text": [
      "first == Geeks\n",
      "mid == for\n",
      "last == Geeks\n"
     ]
    }
   ],
   "source": [
    "# kwargs\n",
    "# accept keyworded variable-length argument passed by the function call.\n",
    "def myFun(**kwargs):\n",
    "    for key, value in kwargs.items():\n",
    "        print(\"%s == %s\" % (key, value))\n",
    "\n",
    "# Driver code\n",
    "myFun(first='Geeks', mid='for', last='Geeks')"
   ]
  },
  {
   "cell_type": "code",
   "execution_count": null,
   "id": "433d2047",
   "metadata": {},
   "outputs": [],
   "source": []
  },
  {
   "cell_type": "markdown",
   "id": "c8f97b21",
   "metadata": {},
   "source": [
    "# Python closures\n",
    "\n",
    "### A Closure is a function object that remembers values in enclosing scopes even if they are not present in memory. "
   ]
  },
  {
   "cell_type": "code",
   "execution_count": 51,
   "id": "c89c9953",
   "metadata": {},
   "outputs": [
    {
     "name": "stdout",
     "output_type": "stream",
     "text": [
      "Hey!\n"
     ]
    }
   ],
   "source": [
    "def outerFunction(text):\n",
    "    text = text\n",
    " \n",
    "    def innerFunction():\n",
    "        print(text)\n",
    " \n",
    "    # Note we are returning function\n",
    "    # WITHOUT parenthesis\n",
    "    return innerFunction \n",
    " \n",
    "if __name__ == '__main__':\n",
    "    myFunction = outerFunction('Hey!')\n",
    "    myFunction()"
   ]
  },
  {
   "cell_type": "code",
   "execution_count": null,
   "id": "e116df68",
   "metadata": {},
   "outputs": [],
   "source": []
  },
  {
   "cell_type": "markdown",
   "id": "515fb6b8",
   "metadata": {},
   "source": [
    "# Import module in Python\n",
    "\n",
    "### Import in python is similar to #include header_file in C/C++. Python modules can get access to code from another module by importing the file/function using import."
   ]
  },
  {
   "cell_type": "code",
   "execution_count": 1,
   "id": "5f0f45cf",
   "metadata": {},
   "outputs": [
    {
     "name": "stdout",
     "output_type": "stream",
     "text": [
      "The value of pi is :  3.141592653589793\n"
     ]
    }
   ],
   "source": [
    "import math\n",
    "pie = math.pi\n",
    "print(\"The value of pi is : \",pie)"
   ]
  },
  {
   "cell_type": "code",
   "execution_count": 3,
   "id": "82383a44",
   "metadata": {},
   "outputs": [
    {
     "name": "stdout",
     "output_type": "stream",
     "text": [
      "3.141592653589793\n"
     ]
    }
   ],
   "source": [
    "from math import pi\n",
    "\n",
    "print(pi)"
   ]
  },
  {
   "cell_type": "code",
   "execution_count": 4,
   "id": "555e20e7",
   "metadata": {},
   "outputs": [
    {
     "name": "stdout",
     "output_type": "stream",
     "text": [
      "3.141592653589793\n",
      "720\n"
     ]
    }
   ],
   "source": [
    "from math import *\n",
    "print(pi)\n",
    "print(factorial(6))"
   ]
  },
  {
   "cell_type": "code",
   "execution_count": null,
   "id": "47c2f183",
   "metadata": {},
   "outputs": [],
   "source": []
  },
  {
   "cell_type": "markdown",
   "id": "5dec1bd0",
   "metadata": {},
   "source": [
    "# range() does not return an iterator\n",
    "\n",
    "### In python range objects are not iterators. range is a class of a list of immutable objects."
   ]
  },
  {
   "cell_type": "code",
   "execution_count": 7,
   "id": "96a48935",
   "metadata": {},
   "outputs": [
    {
     "name": "stdout",
     "output_type": "stream",
     "text": [
      "range(0, 6)\n"
     ]
    },
    {
     "ename": "TypeError",
     "evalue": "'range' object is not an iterator",
     "output_type": "error",
     "traceback": [
      "\u001b[1;31m---------------------------------------------------------------------------\u001b[0m",
      "\u001b[1;31mTypeError\u001b[0m                                 Traceback (most recent call last)",
      "\u001b[1;32m<ipython-input-7-2de1211b2e31>\u001b[0m in \u001b[0;36m<module>\u001b[1;34m\u001b[0m\n\u001b[0;32m      5\u001b[0m \u001b[1;33m\u001b[0m\u001b[0m\n\u001b[0;32m      6\u001b[0m \u001b[1;31m# it will generate error\u001b[0m\u001b[1;33m\u001b[0m\u001b[1;33m\u001b[0m\u001b[1;33m\u001b[0m\u001b[0m\n\u001b[1;32m----> 7\u001b[1;33m \u001b[0mprint\u001b[0m\u001b[1;33m(\u001b[0m\u001b[0mnext\u001b[0m\u001b[1;33m(\u001b[0m\u001b[0mdemo\u001b[0m\u001b[1;33m)\u001b[0m\u001b[1;33m)\u001b[0m\u001b[1;33m\u001b[0m\u001b[1;33m\u001b[0m\u001b[0m\n\u001b[0m",
      "\u001b[1;31mTypeError\u001b[0m: 'range' object is not an iterator"
     ]
    }
   ],
   "source": [
    "demo = range(6)\n",
    "\n",
    "# print the demo\n",
    "print(demo)\n",
    "\n",
    "# it will generate error\n",
    "print(next(demo))"
   ]
  },
  {
   "cell_type": "code",
   "execution_count": null,
   "id": "fddbc21c",
   "metadata": {},
   "outputs": [],
   "source": []
  },
  {
   "cell_type": "code",
   "execution_count": null,
   "id": "ff101ad9",
   "metadata": {},
   "outputs": [],
   "source": []
  },
  {
   "cell_type": "code",
   "execution_count": null,
   "id": "a5f05f6b",
   "metadata": {},
   "outputs": [],
   "source": []
  },
  {
   "cell_type": "markdown",
   "id": "4e975712",
   "metadata": {},
   "source": [
    "# OOPs Concepts"
   ]
  },
  {
   "cell_type": "markdown",
   "id": "bfc04784",
   "metadata": {},
   "source": []
  },
  {
   "cell_type": "markdown",
   "id": "6236ab94",
   "metadata": {},
   "source": [
    "# Intermediate Level Topics"
   ]
  },
  {
   "cell_type": "markdown",
   "id": "38b40ae3",
   "metadata": {},
   "source": [
    "## This is divided in five sections.\n",
    "### 1. Classes\n",
    "#### Classes are created by keyword class.\n",
    "#### Attributes are the variables that belong to class."
   ]
  },
  {
   "cell_type": "code",
   "execution_count": 14,
   "id": "057ec673",
   "metadata": {},
   "outputs": [
    {
     "name": "stdout",
     "output_type": "stream",
     "text": [
      "Dipam 88\n"
     ]
    }
   ],
   "source": [
    "class MyClass:\n",
    "    number = 0\n",
    "    name = 'noname'\n",
    "    \n",
    "def Main():\n",
    "    me = MyClass()\n",
    "    \n",
    "    me.number = 88\n",
    "    me.name = 'Dipam'\n",
    "    \n",
    "    print(me.name + \" \" + str(me.number))\n",
    "\n",
    "if __name__ == '__main__':\n",
    "    Main()"
   ]
  },
  {
   "cell_type": "code",
   "execution_count": null,
   "id": "3e49eaed",
   "metadata": {},
   "outputs": [],
   "source": []
  },
  {
   "cell_type": "code",
   "execution_count": null,
   "id": "c9c89780",
   "metadata": {},
   "outputs": [],
   "source": []
  },
  {
   "cell_type": "markdown",
   "id": "3aa20efc",
   "metadata": {},
   "source": [
    "### 2. Methods\n",
    "#### Function that belongs to a class is called an Method.\n",
    "#### All methods require ‘self’ parameter."
   ]
  },
  {
   "cell_type": "code",
   "execution_count": 17,
   "id": "042cceed",
   "metadata": {},
   "outputs": [
    {
     "name": "stdout",
     "output_type": "stream",
     "text": [
      "X: 5, Y: 6\n"
     ]
    }
   ],
   "source": [
    "class Vector2D:\n",
    "    x = 0.0\n",
    "    y = 0.0\n",
    "\n",
    "    # Creating a method named Set\n",
    "    def Set(self, x, y):\n",
    "        self.x = x\n",
    "        self.y = y\n",
    "\n",
    "def Main():\n",
    "    # vec is an object of class Vector2D\n",
    "    vec = Vector2D()\n",
    "\n",
    "    vec.Set(5, 6)\n",
    "    print(\"X: \" + str(vec.x) + \", Y: \" + str(vec.y))\n",
    "\n",
    "if __name__=='__main__':\n",
    "    Main()"
   ]
  },
  {
   "cell_type": "code",
   "execution_count": null,
   "id": "f26aa7c0",
   "metadata": {},
   "outputs": [],
   "source": []
  },
  {
   "cell_type": "markdown",
   "id": "85679657",
   "metadata": {},
   "source": [
    "### 3. Inheritance\n",
    "#### Inheritance is defined as a way in which a particular class inherits features from its base class."
   ]
  },
  {
   "cell_type": "code",
   "execution_count": 18,
   "id": "e799d772",
   "metadata": {},
   "outputs": [
    {
     "name": "stdout",
     "output_type": "stream",
     "text": [
      "Is jess a cat? True\n",
      "Is jess a pet? True\n",
      "Is the pet a cat? False\n",
      "Is thePet a Pet? True\n",
      "Jess\n"
     ]
    }
   ],
   "source": [
    "class Pet:\n",
    "    #__init__ is an constructor in Python\n",
    "    def __init__(self, name, age):\t\n",
    "        self.name = name\n",
    "        self.age = age\n",
    "\n",
    "# Class Cat inheriting from the class Pet\n",
    "class Cat(Pet):\n",
    "    def __init__(self, name, age):\n",
    "        # calling the super-class function __init__\n",
    "        # using the super() function\n",
    "        super().__init__(name, age)\n",
    "\n",
    "def Main():\n",
    "    thePet = Pet(\"Pet\", 1)\n",
    "    jess = Cat(\"Jess\", 3)\n",
    "\n",
    "    # isinstance() function to check whether a class is\n",
    "    # inherited from another class\n",
    "    print(\"Is jess a cat? \" +str(isinstance(jess, Cat)))\n",
    "    print(\"Is jess a pet? \" +str(isinstance(jess, Pet)))\n",
    "    print(\"Is the pet a cat? \"+str(isinstance(thePet, Cat)))\n",
    "    print(\"Is thePet a Pet? \" +str(isinstance(thePet, Pet)))\n",
    "    print(jess.name)\n",
    "\n",
    "if __name__=='__main__':\n",
    "    Main()"
   ]
  },
  {
   "cell_type": "code",
   "execution_count": null,
   "id": "b2499e5f",
   "metadata": {},
   "outputs": [],
   "source": []
  },
  {
   "cell_type": "markdown",
   "id": "4bc41ee8",
   "metadata": {},
   "source": [
    "### 4. Iterators\n",
    "#### The iterator object then uses the __next__() method to get the next item."
   ]
  },
  {
   "cell_type": "code",
   "execution_count": 20,
   "id": "73473961",
   "metadata": {},
   "outputs": [
    {
     "name": "stdout",
     "output_type": "stream",
     "text": [
      "e\n",
      "l\n",
      "c\n",
      "i\n",
      "s\n",
      "p\n",
      "a\n",
      "r\n",
      "D\n"
     ]
    }
   ],
   "source": [
    "class Reverse:\n",
    "    def __init__(self, data):\n",
    "        self.data = data\n",
    "        self.index = len(data)\n",
    "\n",
    "    def __iter__(self):\n",
    "        return self\n",
    "\n",
    "    def __next__(self):\n",
    "        if self.index == 0:\n",
    "            raise StopIteration\t\n",
    "        self.index-= 1\n",
    "        return self.data[self.index]\n",
    "\n",
    "def Main():\n",
    "    rev = Reverse('Drapsicle')\n",
    "    for char in rev:\n",
    "        print(char)\n",
    "\n",
    "if __name__=='__main__':\n",
    "    Main()"
   ]
  },
  {
   "cell_type": "code",
   "execution_count": null,
   "id": "410af823",
   "metadata": {},
   "outputs": [],
   "source": []
  },
  {
   "cell_type": "code",
   "execution_count": null,
   "id": "f0642465",
   "metadata": {},
   "outputs": [],
   "source": []
  },
  {
   "cell_type": "markdown",
   "id": "a844d7b1",
   "metadata": {},
   "source": [
    "# 2. Data Hiding and Object Printing"
   ]
  },
  {
   "cell_type": "code",
   "execution_count": 1,
   "id": "670ecbb6",
   "metadata": {},
   "outputs": [
    {
     "name": "stdout",
     "output_type": "stream",
     "text": [
      "2\n",
      "7\n"
     ]
    },
    {
     "ename": "AttributeError",
     "evalue": "'MyClass' object has no attribute '__hiddenVariable'",
     "output_type": "error",
     "traceback": [
      "\u001b[1;31m---------------------------------------------------------------------------\u001b[0m",
      "\u001b[1;31mAttributeError\u001b[0m                            Traceback (most recent call last)",
      "\u001b[1;32m<ipython-input-1-2559260025dd>\u001b[0m in \u001b[0;36m<module>\u001b[1;34m\u001b[0m\n\u001b[0;32m     16\u001b[0m \u001b[1;33m\u001b[0m\u001b[0m\n\u001b[0;32m     17\u001b[0m \u001b[1;31m# This line causes error\u001b[0m\u001b[1;33m\u001b[0m\u001b[1;33m\u001b[0m\u001b[1;33m\u001b[0m\u001b[0m\n\u001b[1;32m---> 18\u001b[1;33m \u001b[0mprint\u001b[0m \u001b[1;33m(\u001b[0m\u001b[0mmyObject\u001b[0m\u001b[1;33m.\u001b[0m\u001b[0m__hiddenVariable\u001b[0m\u001b[1;33m)\u001b[0m\u001b[1;33m\u001b[0m\u001b[1;33m\u001b[0m\u001b[0m\n\u001b[0m",
      "\u001b[1;31mAttributeError\u001b[0m: 'MyClass' object has no attribute '__hiddenVariable'"
     ]
    }
   ],
   "source": [
    "class MyClass:\n",
    "\n",
    "    # Hidden member of MyClass\n",
    "    __hiddenVariable = 0\n",
    "\n",
    "    # A member method that changes\n",
    "    # __hiddenVariable\n",
    "    def add(self, increment):\n",
    "        self.__hiddenVariable += increment\n",
    "        print (self.__hiddenVariable)\n",
    "\n",
    "# Driver code\n",
    "myObject = MyClass()\n",
    "myObject.add(2)\n",
    "myObject.add(5)\n",
    "\n",
    "# This line causes error\n",
    "print (myObject.__hiddenVariable)"
   ]
  },
  {
   "cell_type": "code",
   "execution_count": 2,
   "id": "96fea523",
   "metadata": {},
   "outputs": [
    {
     "name": "stdout",
     "output_type": "stream",
     "text": [
      "10\n"
     ]
    }
   ],
   "source": [
    "# members can be accessed outside a class\n",
    "class MyClass:\n",
    "\n",
    "    # Hidden member of MyClass\n",
    "    __hiddenVariable = 10\n",
    "\n",
    "# Driver code\n",
    "myObject = MyClass()\n",
    "print(myObject._MyClass__hiddenVariable)"
   ]
  },
  {
   "cell_type": "code",
   "execution_count": null,
   "id": "530602d6",
   "metadata": {},
   "outputs": [],
   "source": []
  },
  {
   "cell_type": "markdown",
   "id": "f8c996ea",
   "metadata": {},
   "source": [
    "# 3. Inheritance, examples of an object, issubclass and super"
   ]
  },
  {
   "cell_type": "code",
   "execution_count": 5,
   "id": "cb045334",
   "metadata": {},
   "outputs": [
    {
     "name": "stdout",
     "output_type": "stream",
     "text": [
      "Geek1 False\n",
      "Geek2 True\n"
     ]
    }
   ],
   "source": [
    "class Person(object):\n",
    "\n",
    "    # Constructor\n",
    "    def __init__(self, name):\n",
    "        self.name = name\n",
    "\n",
    "    # To get name\n",
    "    def getName(self):\n",
    "        return self.name\n",
    "\n",
    "    # To check if this person is employee\n",
    "    def isEmployee(self):\n",
    "        return False\n",
    "\n",
    "\n",
    "# Inherited or Sub class (Note Person in bracket)\n",
    "class Employee(Person):\n",
    "\n",
    "    # Here we return true\n",
    "    def isEmployee(self):\n",
    "        return True\n",
    "\n",
    "# Driver code\n",
    "emp = Person(\"Geek1\") # An Object of Person\n",
    "print(emp.getName(), emp.isEmployee())\n",
    "\n",
    "emp = Employee(\"Geek2\") # An Object of Employee\n",
    "print(emp.getName(), emp.isEmployee())"
   ]
  },
  {
   "cell_type": "markdown",
   "id": "7fefee92",
   "metadata": {},
   "source": [
    "#### issubclass()"
   ]
  },
  {
   "cell_type": "code",
   "execution_count": 6,
   "id": "efb3351c",
   "metadata": {},
   "outputs": [
    {
     "name": "stdout",
     "output_type": "stream",
     "text": [
      "True\n",
      "False\n",
      "False\n",
      "True\n"
     ]
    }
   ],
   "source": [
    "# Python example to check if a class is\n",
    "# subclass of another\n",
    "\n",
    "class Base(object):\n",
    "\tpass # Empty Class\n",
    "\n",
    "class Derived(Base):\n",
    "\tpass # Empty Class\n",
    "\n",
    "# Driver Code\n",
    "print(issubclass(Derived, Base))\n",
    "print(issubclass(Base, Derived))\n",
    "\n",
    "d = Derived()\n",
    "b = Base()\n",
    "\n",
    "# b is not an instance of Derived\n",
    "print(isinstance(b, Derived))\n",
    "\n",
    "# But d is an instance of Base\n",
    "print(isinstance(d, Base))"
   ]
  },
  {
   "cell_type": "code",
   "execution_count": null,
   "id": "6f7b42fa",
   "metadata": {},
   "outputs": [],
   "source": []
  },
  {
   "cell_type": "code",
   "execution_count": null,
   "id": "f23d2083",
   "metadata": {},
   "outputs": [],
   "source": []
  },
  {
   "cell_type": "code",
   "execution_count": 8,
   "id": "329709d9",
   "metadata": {},
   "outputs": [],
   "source": []
  },
  {
   "cell_type": "code",
   "execution_count": 12,
   "id": "e570d93c",
   "metadata": {},
   "outputs": [
    {
     "data": {
      "text/plain": [
       "4"
      ]
     },
     "execution_count": 12,
     "metadata": {},
     "output_type": "execute_result"
    }
   ],
   "source": []
  },
  {
   "cell_type": "code",
   "execution_count": 11,
   "id": "0a6a2725",
   "metadata": {},
   "outputs": [
    {
     "name": "stdout",
     "output_type": "stream",
     "text": [
      "1101111011100001000\n"
     ]
    }
   ],
   "source": []
  },
  {
   "cell_type": "code",
   "execution_count": null,
   "id": "fa3061f9",
   "metadata": {},
   "outputs": [],
   "source": []
  },
  {
   "cell_type": "code",
   "execution_count": null,
   "id": "61a28eff",
   "metadata": {},
   "outputs": [],
   "source": []
  },
  {
   "cell_type": "code",
   "execution_count": null,
   "id": "a48defbf",
   "metadata": {},
   "outputs": [],
   "source": []
  },
  {
   "cell_type": "code",
   "execution_count": null,
   "id": "a7c3f639",
   "metadata": {},
   "outputs": [],
   "source": []
  },
  {
   "cell_type": "code",
   "execution_count": null,
   "id": "444e43d1",
   "metadata": {},
   "outputs": [],
   "source": []
  },
  {
   "cell_type": "code",
   "execution_count": null,
   "id": "0bac6a7f",
   "metadata": {},
   "outputs": [],
   "source": []
  },
  {
   "cell_type": "code",
   "execution_count": null,
   "id": "c483b9c6",
   "metadata": {},
   "outputs": [],
   "source": []
  }
 ],
 "metadata": {
  "kernelspec": {
   "display_name": "Python 3",
   "language": "python",
   "name": "python3"
  },
  "language_info": {
   "codemirror_mode": {
    "name": "ipython",
    "version": 3
   },
   "file_extension": ".py",
   "mimetype": "text/x-python",
   "name": "python",
   "nbconvert_exporter": "python",
   "pygments_lexer": "ipython3",
   "version": "3.8.8"
  }
 },
 "nbformat": 4,
 "nbformat_minor": 5
}
