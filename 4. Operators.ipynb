{
 "cells": [
  {
   "cell_type": "markdown",
   "id": "6ac2224d",
   "metadata": {},
   "source": [
    "1. Arithmetic operators\n",
    "2. Assignment operators\n",
    "3. Comparison operators\n",
    "4. Logical operators\n",
    "5. Identity operators\n",
    "6. Membership operators\n",
    "7. Bitwise operators"
   ]
  },
  {
   "cell_type": "markdown",
   "id": "f913f482",
   "metadata": {},
   "source": [
    "# 1. Arithmatic Opearator"
   ]
  },
  {
   "cell_type": "code",
   "execution_count": 29,
   "id": "8fd126ba",
   "metadata": {},
   "outputs": [
    {
     "name": "stdout",
     "output_type": "stream",
     "text": [
      "Addition :  13\n",
      "Substraction :  7\n",
      "Multiplication :  30\n",
      "Division :  3.3333333333333335\n",
      "Modulus :  1\n",
      "Exponentiation :  1000\n",
      "Floor division :  3\n"
     ]
    }
   ],
   "source": [
    "X = 10\n",
    "Y = 3\n",
    "\n",
    "print(\"Addition : \", X + Y)\n",
    "print(\"Substraction : \",X - Y)\n",
    "print(\"Multiplication : \",X * Y)\n",
    "print(\"Division : \",X / Y)\n",
    "print(\"Modulus : \",X % Y)\n",
    "print(\"Exponentiation : \",X ** Y)\n",
    "print(\"Floor division : \",X // Y)"
   ]
  },
  {
   "cell_type": "markdown",
   "id": "5f2e8e00",
   "metadata": {},
   "source": [
    "# 2. Assignment Operators"
   ]
  },
  {
   "cell_type": "code",
   "execution_count": 17,
   "id": "5fda03fa",
   "metadata": {},
   "outputs": [
    {
     "name": "stdout",
     "output_type": "stream",
     "text": [
      "y +=3 :  8\n",
      "X -= 3: 0\n",
      "z *= 3 : 9\n",
      "a /= 3 : 1.6666666666666667\n"
     ]
    }
   ],
   "source": [
    "y = 5\n",
    "y +=3\n",
    "print(\"y +=3 : \",y)\n",
    "\n",
    "x = 3 \n",
    "x -= 3\n",
    "print(\"X -= 3:\",x)\n",
    "\n",
    "z = 3\n",
    "z *= 3\n",
    "print(\"z *= 3 :\",z)\n",
    "\n",
    "a = 5\n",
    "a /= 3\n",
    "print(\"a /= 3 :\",a)\n"
   ]
  },
  {
   "cell_type": "code",
   "execution_count": null,
   "id": "5485d3ec",
   "metadata": {},
   "outputs": [],
   "source": []
  },
  {
   "cell_type": "markdown",
   "id": "6e6e572f",
   "metadata": {},
   "source": [
    "# 3. Comparision Operator"
   ]
  },
  {
   "cell_type": "code",
   "execution_count": 20,
   "id": "782e6fb1",
   "metadata": {},
   "outputs": [
    {
     "name": "stdout",
     "output_type": "stream",
     "text": [
      "False\n",
      "True\n",
      "True\n",
      "False\n",
      "True\n",
      "False\n"
     ]
    }
   ],
   "source": [
    "x = 5\n",
    "y = 3\n",
    "\n",
    "print(x == y)\n",
    "\n",
    "print(x != y)\n",
    "\n",
    "print(x > y)\n",
    "\n",
    "print(x < y)\n",
    "\n",
    "print(x >= y)\n",
    "\n",
    "print(x <= y)\n"
   ]
  },
  {
   "cell_type": "markdown",
   "id": "8e9d3e6a",
   "metadata": {},
   "source": [
    "# 4. Logical Operators"
   ]
  },
  {
   "cell_type": "code",
   "execution_count": 21,
   "id": "763f52e6",
   "metadata": {},
   "outputs": [
    {
     "name": "stdout",
     "output_type": "stream",
     "text": [
      "True\n",
      "True\n",
      "False\n"
     ]
    }
   ],
   "source": [
    "x =5\n",
    "print(x > 3 and x < 10)\n",
    "\n",
    "print(x > 3 or x < 4)\n",
    "\n",
    "print(not(x > 3 and x < 10))"
   ]
  },
  {
   "cell_type": "markdown",
   "id": "2c4b3b0a",
   "metadata": {},
   "source": [
    "# 5. Identity Operators"
   ]
  },
  {
   "cell_type": "code",
   "execution_count": 23,
   "id": "b8b02c61",
   "metadata": {},
   "outputs": [
    {
     "name": "stdout",
     "output_type": "stream",
     "text": [
      "True\n",
      "False\n",
      "True\n"
     ]
    }
   ],
   "source": [
    "#  IS operator\n",
    "x = [\"apple\", \"banana\"]\n",
    "y = [\"apple\", \"banana\"]\n",
    "z = x\n",
    "\n",
    "print(x is z)\n",
    "\n",
    "print(x is y)\n",
    "\n",
    "print(x == y)"
   ]
  },
  {
   "cell_type": "code",
   "execution_count": 25,
   "id": "8e64076c",
   "metadata": {},
   "outputs": [
    {
     "name": "stdout",
     "output_type": "stream",
     "text": [
      "False\n",
      "True\n",
      "False\n"
     ]
    }
   ],
   "source": [
    "#  IS Not Operator\n",
    "print(x is not z)\n",
    "\n",
    "print(x is not y)\n",
    "\n",
    "print(x != y)"
   ]
  },
  {
   "cell_type": "markdown",
   "id": "d010d15b",
   "metadata": {},
   "source": [
    "# 6. Membership Operators"
   ]
  },
  {
   "cell_type": "code",
   "execution_count": 26,
   "id": "31d8e431",
   "metadata": {},
   "outputs": [
    {
     "name": "stdout",
     "output_type": "stream",
     "text": [
      "True\n"
     ]
    }
   ],
   "source": [
    "#  IN operator\n",
    "x = [\"apple\", \"banana\"]\n",
    "\n",
    "print(\"banana\" in x)"
   ]
  },
  {
   "cell_type": "code",
   "execution_count": 27,
   "id": "6fb95613",
   "metadata": {},
   "outputs": [
    {
     "name": "stdout",
     "output_type": "stream",
     "text": [
      "True\n"
     ]
    }
   ],
   "source": [
    "#  Not IN operator\n",
    "x = [\"apple\", \"banana\"]\n",
    "\n",
    "print(\"pineapple\" not in x)\n"
   ]
  },
  {
   "cell_type": "code",
   "execution_count": null,
   "id": "351c7a0f",
   "metadata": {},
   "outputs": [],
   "source": []
  }
 ],
 "metadata": {
  "kernelspec": {
   "display_name": "Python 3",
   "language": "python",
   "name": "python3"
  },
  "language_info": {
   "codemirror_mode": {
    "name": "ipython",
    "version": 3
   },
   "file_extension": ".py",
   "mimetype": "text/x-python",
   "name": "python",
   "nbconvert_exporter": "python",
   "pygments_lexer": "ipython3",
   "version": "3.8.8"
  }
 },
 "nbformat": 4,
 "nbformat_minor": 5
}
